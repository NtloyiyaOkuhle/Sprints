{
 "cells": [
  {
   "cell_type": "code",
   "execution_count": 1,
   "metadata": {},
   "outputs": [
    {
     "name": "stdout",
     "output_type": "stream",
     "text": [
      "<mysql.connector.connection_cext.CMySQLConnection object at 0x00000244EFA27E88>\n"
     ]
    }
   ],
   "source": [
    "import mysql.connector\n",
    "mydb = mysql.connector.connect(\n",
    "  host=\"localhost\",\n",
    "  user=\"root\",\n",
    "  passwd=\"Sanelisiwe2000\"\n",
    ")\n",
    "print(mydb)"
   ]
  },
  {
   "cell_type": "code",
   "execution_count": 2,
   "metadata": {},
   "outputs": [
    {
     "name": "stdout",
     "output_type": "stream",
     "text": [
      "('information_schema',)\n",
      "('mydatabase',)\n",
      "('mysql',)\n",
      "('performance_schema',)\n",
      "('sakila',)\n",
      "('sys',)\n",
      "('world',)\n"
     ]
    }
   ],
   "source": [
    "import mysql.connector\n",
    "mydb = mysql.connector.connect(\n",
    "  host=\"localhost\",\n",
    "  user=\"root\",\n",
    "  passwd=\"Sanelisiwe2000\"\n",
    ")\n",
    "mycursor = mydb.cursor()\n",
    "mycursor.execute(\"SHOW DATABASES\")\n",
    "for x in mycursor:\n",
    "    print(x)"
   ]
  },
  {
   "cell_type": "code",
   "execution_count": 5,
   "metadata": {
    "scrolled": true
   },
   "outputs": [],
   "source": [
    "#Add more Products\n",
    "import mysql.connector\n",
    "mydb = mysql.connector.connect(\n",
    "  host=\"localhost\",\n",
    "  user=\"root\",\n",
    "  passwd=\"Sanelisiwe2000\",\n",
    "  database=\"world\"\n",
    ") \n",
    "\n",
    "cur=mydb.cursor()\n",
    "s=\"INSERT INTO sprint (Sweets,Brands,Barcode) Values(%s,%s,%s)\"\n",
    "sql=[\n",
    "    (\"Lollypop\",\"Cadbury\",\"df8h7tgt\"),\n",
    "]\n",
    "cur.executemany(s,sql)\n",
    "mydb.commit()"
   ]
  },
  {
   "cell_type": "code",
   "execution_count": null,
   "metadata": {},
   "outputs": [],
   "source": [
    "#CREATE COLUMNS\n",
    "import mysql.connector\n",
    "mydb = mysql.connector.connect(\n",
    "  host=\"localhost\",\n",
    "  user=\"root\",\n",
    "  passwd=\"Sanelisiwe2000\",\n",
    "  database=\"world\"\n",
    ") \n",
    "\n",
    "cur=mydb.cursor()\n",
    "\n",
    "cur.execute(\"ALTER TABLE sprint ADD Barcode varchar(225)\")"
   ]
  },
  {
   "cell_type": "code",
   "execution_count": null,
   "metadata": {},
   "outputs": [],
   "source": [
    "import mysql.connector\n",
    "mydb = mysql.connector.connect(\n",
    "  host=\"localhost\",\n",
    "  user=\"root\",\n",
    "  passwd=\"Sanelisiwe2000\",\n",
    "  database=\"world\"\n",
    ") \n",
    "\n",
    "cur=mydb.cursor()\n",
    "\n",
    "cur.execute(\"SELECT Products FROM world.sprint\")"
   ]
  },
  {
   "cell_type": "code",
   "execution_count": 11,
   "metadata": {},
   "outputs": [
    {
     "name": "stdout",
     "output_type": "stream",
     "text": [
      "('chocolate',)\n",
      "('city',)\n",
      "('country',)\n",
      "('countrylanguage',)\n",
      "('customers',)\n",
      "('sprint',)\n"
     ]
    }
   ],
   "source": [
    "import mysql.connector\n",
    "mydb = mysql.connector.connect(\n",
    "  host=\"localhost\",\n",
    "  user=\"root\",\n",
    "  passwd=\"Sanelisiwe2000\",\n",
    "  database=\"world\"\n",
    ") \n",
    "db_cursor = mydb.cursor()\n",
    "#Here creating database table as student'\n",
    "db_cursor.execute(\"CREATE TABLE Chocolate (id INT, name VARCHAR(255))\")\n",
    "#Get database table'\n",
    "db_cursor.execute(\"SHOW TABLES\")\n",
    "for table in db_cursor:\n",
    "\tprint(table)"
   ]
  },
  {
   "cell_type": "code",
   "execution_count": 12,
   "metadata": {},
   "outputs": [
    {
     "name": "stdout",
     "output_type": "stream",
     "text": [
      "('chips',)\n",
      "('chocolate',)\n",
      "('city',)\n",
      "('country',)\n",
      "('countrylanguage',)\n",
      "('customers',)\n",
      "('sprint',)\n"
     ]
    }
   ],
   "source": [
    "import mysql.connector\n",
    "mydb = mysql.connector.connect(\n",
    "  host=\"localhost\",\n",
    "  user=\"root\",\n",
    "  passwd=\"Sanelisiwe2000\",\n",
    "  database=\"world\"\n",
    ") \n",
    "db_cursor = mydb.cursor()\n",
    "#Here creating database table as student'\n",
    "db_cursor.execute(\"CREATE TABLE Chips (id INT, name VARCHAR(255))\")\n",
    "#Get database table'\n",
    "db_cursor.execute(\"SHOW TABLES\")\n",
    "for table in db_cursor:\n",
    "\tprint(table)"
   ]
  },
  {
   "cell_type": "code",
   "execution_count": 14,
   "metadata": {},
   "outputs": [],
   "source": [
    "import mysql.connector\n",
    "mydb = mysql.connector.connect(\n",
    "  host=\"localhost\",\n",
    "  user=\"root\",\n",
    "  passwd=\"Sanelisiwe2000\",\n",
    "  database=\"world\"\n",
    ") \n",
    "db_cursor = mydb.cursor()\n",
    "#Here we modify existing column id\n",
    "db_cursor.execute(\"ALTER TABLE Chocolate MODIFY id INT PRIMARY KEY\")"
   ]
  },
  {
   "cell_type": "code",
   "execution_count": null,
   "metadata": {},
   "outputs": [],
   "source": []
  }
 ],
 "metadata": {
  "kernelspec": {
   "display_name": "Python 3",
   "language": "python",
   "name": "python3"
  },
  "language_info": {
   "codemirror_mode": {
    "name": "ipython",
    "version": 3
   },
   "file_extension": ".py",
   "mimetype": "text/x-python",
   "name": "python",
   "nbconvert_exporter": "python",
   "pygments_lexer": "ipython3",
   "version": "3.7.4"
  }
 },
 "nbformat": 4,
 "nbformat_minor": 2
}
